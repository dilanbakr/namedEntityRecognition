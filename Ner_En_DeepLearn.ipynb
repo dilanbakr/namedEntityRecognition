{
  "nbformat": 4,
  "nbformat_minor": 0,
  "metadata": {
    "colab": {
      "name": "Ner_En_DeepLearn.ipynb",
      "provenance": [],
      "collapsed_sections": [],
      "include_colab_link": true
    },
    "kernelspec": {
      "name": "python3",
      "display_name": "Python 3"
    }
  },
  "cells": [
    {
      "cell_type": "markdown",
      "metadata": {
        "id": "view-in-github",
        "colab_type": "text"
      },
      "source": [
        "<a href=\"https://colab.research.google.com/github/dilanbakr/namedEntityRecognition/blob/main/Ner_En_DeepLearn.ipynb\" target=\"_parent\"><img src=\"https://colab.research.google.com/assets/colab-badge.svg\" alt=\"Open In Colab\"/></a>"
      ]
    },
    {
      "cell_type": "code",
      "metadata": {
        "id": "Hrjv-OYV9lNX",
        "colab": {
          "base_uri": "https://localhost:8080/",
          "height": 153
        },
        "outputId": "c73bad29-4cd0-4a42-c83e-93c4068d02d1"
      },
      "source": [
        "!pip install keras==2.2.4"
      ],
      "execution_count": null,
      "outputs": [
        {
          "output_type": "stream",
          "text": [
            "Requirement already satisfied: keras==2.2.4 in /usr/local/lib/python3.6/dist-packages (2.2.4)\n",
            "Requirement already satisfied: keras-preprocessing>=1.0.5 in /usr/local/lib/python3.6/dist-packages (from keras==2.2.4) (1.1.0)\n",
            "Requirement already satisfied: scipy>=0.14 in /usr/local/lib/python3.6/dist-packages (from keras==2.2.4) (1.3.2)\n",
            "Requirement already satisfied: numpy>=1.9.1 in /usr/local/lib/python3.6/dist-packages (from keras==2.2.4) (1.17.4)\n",
            "Requirement already satisfied: h5py in /usr/local/lib/python3.6/dist-packages (from keras==2.2.4) (2.8.0)\n",
            "Requirement already satisfied: pyyaml in /usr/local/lib/python3.6/dist-packages (from keras==2.2.4) (3.13)\n",
            "Requirement already satisfied: six>=1.9.0 in /usr/local/lib/python3.6/dist-packages (from keras==2.2.4) (1.12.0)\n",
            "Requirement already satisfied: keras-applications>=1.0.6 in /usr/local/lib/python3.6/dist-packages (from keras==2.2.4) (1.0.8)\n"
          ],
          "name": "stdout"
        }
      ]
    },
    {
      "cell_type": "code",
      "metadata": {
        "id": "hn03YhnP9qI1",
        "colab": {
          "base_uri": "https://localhost:8080/",
          "height": 51
        },
        "outputId": "7da9eb52-402f-4b32-bf02-1085ca5e4cce"
      },
      "source": [
        "! pip -q install git+https://www.github.com/keras-team/keras-contrib.git sklearn-crfsuite"
      ],
      "execution_count": null,
      "outputs": [
        {
          "output_type": "stream",
          "text": [
            "\u001b[?25l\r\u001b[K     |▍                               | 10kB 27.9MB/s eta 0:00:01\r\u001b[K     |▉                               | 20kB 6.4MB/s eta 0:00:01\r\u001b[K     |█▎                              | 30kB 9.1MB/s eta 0:00:01\r\u001b[K     |█▊                              | 40kB 11.4MB/s eta 0:00:01\r\u001b[K     |██▏                             | 51kB 13.5MB/s eta 0:00:01\r\u001b[K     |██▋                             | 61kB 15.6MB/s eta 0:00:01\r\u001b[K     |███                             | 71kB 17.1MB/s eta 0:00:01\r\u001b[K     |███▌                            | 81kB 11.2MB/s eta 0:00:01\r\u001b[K     |████                            | 92kB 12.4MB/s eta 0:00:01\r\u001b[K     |████▍                           | 102kB 13.3MB/s eta 0:00:01\r\u001b[K     |████▉                           | 112kB 13.3MB/s eta 0:00:01\r\u001b[K     |█████▏                          | 122kB 13.3MB/s eta 0:00:01\r\u001b[K     |█████▋                          | 133kB 13.3MB/s eta 0:00:01\r\u001b[K     |██████                          | 143kB 13.3MB/s eta 0:00:01\r\u001b[K     |██████▌                         | 153kB 13.3MB/s eta 0:00:01\r\u001b[K     |███████                         | 163kB 13.3MB/s eta 0:00:01\r\u001b[K     |███████▍                        | 174kB 13.3MB/s eta 0:00:01\r\u001b[K     |███████▉                        | 184kB 13.3MB/s eta 0:00:01\r\u001b[K     |████████▎                       | 194kB 13.3MB/s eta 0:00:01\r\u001b[K     |████████▊                       | 204kB 13.3MB/s eta 0:00:01\r\u001b[K     |█████████▏                      | 215kB 13.3MB/s eta 0:00:01\r\u001b[K     |█████████▋                      | 225kB 13.3MB/s eta 0:00:01\r\u001b[K     |██████████                      | 235kB 13.3MB/s eta 0:00:01\r\u001b[K     |██████████▍                     | 245kB 13.3MB/s eta 0:00:01\r\u001b[K     |██████████▉                     | 256kB 13.3MB/s eta 0:00:01\r\u001b[K     |███████████▎                    | 266kB 13.3MB/s eta 0:00:01\r\u001b[K     |███████████▊                    | 276kB 13.3MB/s eta 0:00:01\r\u001b[K     |████████████▏                   | 286kB 13.3MB/s eta 0:00:01\r\u001b[K     |████████████▋                   | 296kB 13.3MB/s eta 0:00:01\r\u001b[K     |█████████████                   | 307kB 13.3MB/s eta 0:00:01\r\u001b[K     |█████████████▌                  | 317kB 13.3MB/s eta 0:00:01\r\u001b[K     |██████████████                  | 327kB 13.3MB/s eta 0:00:01\r\u001b[K     |██████████████▍                 | 337kB 13.3MB/s eta 0:00:01\r\u001b[K     |██████████████▊                 | 348kB 13.3MB/s eta 0:00:01\r\u001b[K     |███████████████▏                | 358kB 13.3MB/s eta 0:00:01\r\u001b[K     |███████████████▋                | 368kB 13.3MB/s eta 0:00:01\r\u001b[K     |████████████████                | 378kB 13.3MB/s eta 0:00:01\r\u001b[K     |████████████████▌               | 389kB 13.3MB/s eta 0:00:01\r\u001b[K     |█████████████████               | 399kB 13.3MB/s eta 0:00:01\r\u001b[K     |█████████████████▍              | 409kB 13.3MB/s eta 0:00:01\r\u001b[K     |█████████████████▉              | 419kB 13.3MB/s eta 0:00:01\r\u001b[K     |██████████████████▎             | 430kB 13.3MB/s eta 0:00:01\r\u001b[K     |██████████████████▊             | 440kB 13.3MB/s eta 0:00:01\r\u001b[K     |███████████████████▏            | 450kB 13.3MB/s eta 0:00:01\r\u001b[K     |███████████████████▌            | 460kB 13.3MB/s eta 0:00:01\r\u001b[K     |████████████████████            | 471kB 13.3MB/s eta 0:00:01\r\u001b[K     |████████████████████▍           | 481kB 13.3MB/s eta 0:00:01\r\u001b[K     |████████████████████▉           | 491kB 13.3MB/s eta 0:00:01\r\u001b[K     |█████████████████████▎          | 501kB 13.3MB/s eta 0:00:01\r\u001b[K     |█████████████████████▊          | 512kB 13.3MB/s eta 0:00:01\r\u001b[K     |██████████████████████▏         | 522kB 13.3MB/s eta 0:00:01\r\u001b[K     |██████████████████████▋         | 532kB 13.3MB/s eta 0:00:01\r\u001b[K     |███████████████████████         | 542kB 13.3MB/s eta 0:00:01\r\u001b[K     |███████████████████████▌        | 552kB 13.3MB/s eta 0:00:01\r\u001b[K     |████████████████████████        | 563kB 13.3MB/s eta 0:00:01\r\u001b[K     |████████████████████████▎       | 573kB 13.3MB/s eta 0:00:01\r\u001b[K     |████████████████████████▊       | 583kB 13.3MB/s eta 0:00:01\r\u001b[K     |█████████████████████████▏      | 593kB 13.3MB/s eta 0:00:01\r\u001b[K     |█████████████████████████▋      | 604kB 13.3MB/s eta 0:00:01\r\u001b[K     |██████████████████████████      | 614kB 13.3MB/s eta 0:00:01\r\u001b[K     |██████████████████████████▌     | 624kB 13.3MB/s eta 0:00:01\r\u001b[K     |███████████████████████████     | 634kB 13.3MB/s eta 0:00:01\r\u001b[K     |███████████████████████████▍    | 645kB 13.3MB/s eta 0:00:01\r\u001b[K     |███████████████████████████▉    | 655kB 13.3MB/s eta 0:00:01\r\u001b[K     |████████████████████████████▎   | 665kB 13.3MB/s eta 0:00:01\r\u001b[K     |████████████████████████████▊   | 675kB 13.3MB/s eta 0:00:01\r\u001b[K     |█████████████████████████████▏  | 686kB 13.3MB/s eta 0:00:01\r\u001b[K     |█████████████████████████████▌  | 696kB 13.3MB/s eta 0:00:01\r\u001b[K     |██████████████████████████████  | 706kB 13.3MB/s eta 0:00:01\r\u001b[K     |██████████████████████████████▍ | 716kB 13.3MB/s eta 0:00:01\r\u001b[K     |██████████████████████████████▉ | 727kB 13.3MB/s eta 0:00:01\r\u001b[K     |███████████████████████████████▎| 737kB 13.3MB/s eta 0:00:01\r\u001b[K     |███████████████████████████████▊| 747kB 13.3MB/s eta 0:00:01\r\u001b[K     |████████████████████████████████| 757kB 13.3MB/s \n",
            "\u001b[?25h  Building wheel for keras-contrib (setup.py) ... \u001b[?25l\u001b[?25hdone\n"
          ],
          "name": "stdout"
        }
      ]
    },
    {
      "cell_type": "code",
      "metadata": {
        "id": "JjlSpK2_9swQ",
        "colab": {
          "base_uri": "https://localhost:8080/",
          "height": 80
        },
        "outputId": "07806273-d059-4958-ffde-ddca68f42b5c"
      },
      "source": [
        "import tensorflow as tf\n",
        "import keras\n",
        "\n",
        "import pandas as pd\n",
        "import numpy as np\n",
        "import matplotlib.pyplot as plt"
      ],
      "execution_count": null,
      "outputs": [
        {
          "output_type": "display_data",
          "data": {
            "text/html": [
              "<p style=\"color: red;\">\n",
              "The default version of TensorFlow in Colab will soon switch to TensorFlow 2.x.<br>\n",
              "We recommend you <a href=\"https://www.tensorflow.org/guide/migrate\" target=\"_blank\">upgrade</a> now \n",
              "or ensure your notebook will continue to use TensorFlow 1.x via the <code>%tensorflow_version 1.x</code> magic:\n",
              "<a href=\"https://colab.research.google.com/notebooks/tensorflow_version.ipynb\" target=\"_blank\">more info</a>.</p>\n"
            ],
            "text/plain": [
              "<IPython.core.display.HTML object>"
            ]
          },
          "metadata": {
            "tags": []
          }
        },
        {
          "output_type": "stream",
          "text": [
            "Using TensorFlow backend.\n"
          ],
          "name": "stderr"
        }
      ]
    },
    {
      "cell_type": "code",
      "metadata": {
        "id": "5EAB7PIa9vev",
        "colab": {
          "base_uri": "https://localhost:8080/",
          "height": 444
        },
        "outputId": "d6c8f113-92e5-45a0-96b9-5825833a765c"
      },
      "source": [
        "data = pd.read_csv('ENDataset.csv', encoding = \"latin1\")\n",
        "data = data.fillna(method=\"ffill\")\n",
        "\n",
        "print(\"Number of sentences: \", len(data.groupby(['Sentence #'])))\n",
        "\n",
        "words = list(set(data[\"Word\"].values))\n",
        "n_words = len(words)\n",
        "print(\"Number of words in the dataset: \", n_words)\n",
        "\n",
        "tags = list(set(data[\"Tag\"].values))\n",
        "print(\"Tags:\", tags)\n",
        "n_tags = len(tags)\n",
        "print(\"Number of Labels: \", n_tags)\n",
        "\n",
        "print(\"What the dataset looks like:\")\n",
        "\n",
        "data.head(10)"
      ],
      "execution_count": null,
      "outputs": [
        {
          "output_type": "stream",
          "text": [
            "Number of sentences:  114\n",
            "Number of words in the dataset:  1061\n",
            "Tags: ['O', 'I-LOC', 'I-MISC', '-', 'O ', 'I-ORG', 'I-PER', '...']\n",
            "Number of Labels:  8\n",
            "What the dataset looks like:\n"
          ],
          "name": "stdout"
        },
        {
          "output_type": "execute_result",
          "data": {
            "text/html": [
              "<div>\n",
              "<style scoped>\n",
              "    .dataframe tbody tr th:only-of-type {\n",
              "        vertical-align: middle;\n",
              "    }\n",
              "\n",
              "    .dataframe tbody tr th {\n",
              "        vertical-align: top;\n",
              "    }\n",
              "\n",
              "    .dataframe thead th {\n",
              "        text-align: right;\n",
              "    }\n",
              "</style>\n",
              "<table border=\"1\" class=\"dataframe\">\n",
              "  <thead>\n",
              "    <tr style=\"text-align: right;\">\n",
              "      <th></th>\n",
              "      <th>Sentence #</th>\n",
              "      <th>Word</th>\n",
              "      <th>POS</th>\n",
              "      <th>Tag</th>\n",
              "    </tr>\n",
              "  </thead>\n",
              "  <tbody>\n",
              "    <tr>\n",
              "      <th>0</th>\n",
              "      <td>Sentence: 1</td>\n",
              "      <td>Subordinated</td>\n",
              "      <td>NNP</td>\n",
              "      <td>O</td>\n",
              "    </tr>\n",
              "    <tr>\n",
              "      <th>1</th>\n",
              "      <td>Sentence: 1</td>\n",
              "      <td>Loan</td>\n",
              "      <td>NNP</td>\n",
              "      <td>O</td>\n",
              "    </tr>\n",
              "    <tr>\n",
              "      <th>2</th>\n",
              "      <td>Sentence: 1</td>\n",
              "      <td>Agreement</td>\n",
              "      <td>NNP</td>\n",
              "      <td>O</td>\n",
              "    </tr>\n",
              "    <tr>\n",
              "      <th>3</th>\n",
              "      <td>Sentence: 1</td>\n",
              "      <td>-</td>\n",
              "      <td>:</td>\n",
              "      <td>O</td>\n",
              "    </tr>\n",
              "    <tr>\n",
              "      <th>4</th>\n",
              "      <td>Sentence: 1</td>\n",
              "      <td>Silicium</td>\n",
              "      <td>NNP</td>\n",
              "      <td>I-ORG</td>\n",
              "    </tr>\n",
              "    <tr>\n",
              "      <th>5</th>\n",
              "      <td>Sentence: 1</td>\n",
              "      <td>de</td>\n",
              "      <td>IN</td>\n",
              "      <td>I-ORG</td>\n",
              "    </tr>\n",
              "    <tr>\n",
              "      <th>6</th>\n",
              "      <td>Sentence: 1</td>\n",
              "      <td>Provence</td>\n",
              "      <td>NNP</td>\n",
              "      <td>I-ORG</td>\n",
              "    </tr>\n",
              "    <tr>\n",
              "      <th>7</th>\n",
              "      <td>Sentence: 1</td>\n",
              "      <td>SAS</td>\n",
              "      <td>NNP</td>\n",
              "      <td>I-ORG</td>\n",
              "    </tr>\n",
              "    <tr>\n",
              "      <th>8</th>\n",
              "      <td>Sentence: 1</td>\n",
              "      <td>and</td>\n",
              "      <td>CC</td>\n",
              "      <td>O</td>\n",
              "    </tr>\n",
              "    <tr>\n",
              "      <th>9</th>\n",
              "      <td>Sentence: 1</td>\n",
              "      <td>Evergreen</td>\n",
              "      <td>NNP</td>\n",
              "      <td>I-ORG</td>\n",
              "    </tr>\n",
              "  </tbody>\n",
              "</table>\n",
              "</div>"
            ],
            "text/plain": [
              "    Sentence #          Word  POS    Tag\n",
              "0  Sentence: 1  Subordinated  NNP      O\n",
              "1  Sentence: 1          Loan  NNP      O\n",
              "2  Sentence: 1     Agreement  NNP      O\n",
              "3  Sentence: 1             -    :      O\n",
              "4  Sentence: 1      Silicium  NNP  I-ORG\n",
              "5  Sentence: 1            de   IN  I-ORG\n",
              "6  Sentence: 1      Provence  NNP  I-ORG\n",
              "7  Sentence: 1           SAS  NNP  I-ORG\n",
              "8  Sentence: 1           and   CC      O\n",
              "9  Sentence: 1     Evergreen  NNP  I-ORG"
            ]
          },
          "metadata": {
            "tags": []
          },
          "execution_count": 5
        }
      ]
    },
    {
      "cell_type": "code",
      "metadata": {
        "id": "qzHn2WtL915G"
      },
      "source": [
        "class SentenceGetter(object):\n",
        "    def __init__(self, data):\n",
        "       \n",
        "        self.n_sent = 1\n",
        "        self.data = data\n",
        "        self.empty = False\n",
        "        agg_func = lambda s: [(w, p, t) for w, p, t in zip(s[\"Word\"].values.tolist(),\n",
        "                                                           s[\"POS\"].values.tolist(),\n",
        "                                                           s[\"Tag\"].values.tolist())]\n",
        "        self.grouped = self.data.groupby(\"Sentence #\").apply(agg_func)\n",
        "        self.sentences = [s for s in self.grouped]\n",
        "    \n",
        "    def get_next(self):\n",
        "        \n",
        "        try:\n",
        "            s = self.grouped[\"Sentence: {}\".format(self.n_sent)]\n",
        "            self.n_sent += 1\n",
        "            return s\n",
        "        except:\n",
        "            return None"
      ],
      "execution_count": null,
      "outputs": []
    },
    {
      "cell_type": "code",
      "metadata": {
        "id": "bszobGkE_21T"
      },
      "source": [
        "getter = SentenceGetter(data)\n",
        "sent = getter.get_next()\n",
        "sentences = getter.sentences"
      ],
      "execution_count": null,
      "outputs": []
    },
    {
      "cell_type": "code",
      "metadata": {
        "id": "E7eGqdG2_45C"
      },
      "source": [
        "word2idx = {w: i + 2 for i, w in enumerate(words)}\n",
        "word2idx[\"UNK\"] = 1 # Unknown words\n",
        "word2idx[\"PAD\"] = 0 # Padding"
      ],
      "execution_count": null,
      "outputs": []
    },
    {
      "cell_type": "code",
      "metadata": {
        "id": "DqED8oBtAAm3"
      },
      "source": [
        "idx2word = {i: w for w, i in word2idx.items()}\n",
        "\n",
        "tag2idx = {t: i+1 for i, t in enumerate(tags)}\n",
        "tag2idx[\"PAD\"] = 0\n",
        "\n",
        "idx2tag = {i: w for w, i in tag2idx.items()}"
      ],
      "execution_count": null,
      "outputs": []
    },
    {
      "cell_type": "code",
      "metadata": {
        "id": "BDp_vtwnAJBk"
      },
      "source": [
        "BATCH_SIZE = 50 \n",
        "MAX_LEN = 30  \n",
        "EMBEDDING = 20 "
      ],
      "execution_count": null,
      "outputs": []
    },
    {
      "cell_type": "code",
      "metadata": {
        "id": "j-EVh_1dBi-u",
        "colab": {
          "base_uri": "https://localhost:8080/",
          "height": 51
        },
        "outputId": "1a77b630-fa17-418d-d93a-56fb94c77290"
      },
      "source": [
        "from keras.preprocessing.sequence import pad_sequences\n",
        "X = [[word2idx[w[0]] for w in s] for s in sentences]\n",
        "X = pad_sequences(maxlen=MAX_LEN, sequences=X, padding=\"post\", value=word2idx[\"PAD\"])\n",
        "\n",
        "\n",
        "y = [[tag2idx[w[2]] for w in s] for s in sentences]\n",
        "\n",
        "y = pad_sequences(maxlen=MAX_LEN, sequences=y, padding=\"post\", value=tag2idx[\"PAD\"])\n",
        "\n",
        "from keras.utils import to_categorical\n",
        "\n",
        "y = [to_categorical(i, num_classes=n_tags+1) for i in y]  \n",
        "\n",
        "from sklearn.model_selection import train_test_split\n",
        "X_tr, X_te, y_tr, y_te = train_test_split(X, y, test_size=0.1)\n",
        "X_tr.shape, X_te.shape, np.array(y_tr).shape, np.array(y_te).shape\n",
        "\n",
        "print('Raw Sample: ', ' '.join([w[0] for w in sentences[0]]))\n",
        "print('Raw Label: ', ' '.join([w[2] for w in sentences[0]]))"
      ],
      "execution_count": null,
      "outputs": [
        {
          "output_type": "stream",
          "text": [
            "Raw Sample:  Subordinated Loan Agreement - Silicium de Provence SAS and Evergreen Solar Inc . 7 - December 2007 [ HERBERT SMITH LOGO ] ...\n",
            "Raw Label:  O O O O I-ORG I-ORG I-ORG I-ORG O I-ORG I-ORG I-ORG O O O O O O I-PER I-PER O O ...\n"
          ],
          "name": "stdout"
        }
      ]
    },
    {
      "cell_type": "code",
      "metadata": {
        "id": "7qZ4rE8FNN5j",
        "colab": {
          "base_uri": "https://localhost:8080/",
          "height": 34
        },
        "outputId": "a1fdfa37-9d57-4cee-d060-b476f0fadd5c"
      },
      "source": [
        "X_tr.shape, X_te.shape, np.array(y_tr).shape, np.array(y_te).shape"
      ],
      "execution_count": null,
      "outputs": [
        {
          "output_type": "execute_result",
          "data": {
            "text/plain": [
              "((102, 30), (12, 30), (102, 30, 9), (12, 30, 9))"
            ]
          },
          "metadata": {
            "tags": []
          },
          "execution_count": 12
        }
      ]
    },
    {
      "cell_type": "code",
      "metadata": {
        "id": "yC3t61zfNVYb",
        "colab": {
          "base_uri": "https://localhost:8080/",
          "height": 612
        },
        "outputId": "0017d425-019e-448c-cd30-f3828ea6a1c2"
      },
      "source": [
        "print('Raw Sample: ', ' '.join([w[0] for w in sentences[0]]))\n",
        "print('Raw Label: ', ' '.join([w[2] for w in sentences[0]]))\n",
        "print('After processing, sample:', X[0])\n",
        "print('After processing, labels:', y[0])"
      ],
      "execution_count": null,
      "outputs": [
        {
          "output_type": "stream",
          "text": [
            "Raw Sample:  Subordinated Loan Agreement - Silicium de Provence SAS and Evergreen Solar Inc . 7 - December 2007 [ HERBERT SMITH LOGO ] ...\n",
            "Raw Label:  O O O O I-ORG I-ORG I-ORG I-ORG O I-ORG I-ORG I-ORG O O O O O O I-PER I-PER O O ...\n",
            "After processing, sample: [ 247  944  710  705  407  679  326  506  133  566  124  109  219   40\n",
            "  705  929  192  518 1001  162  546  147  626    0    0    0    0    0\n",
            "    0    0]\n",
            "After processing, labels: [[0. 1. 0. 0. 0. 0. 0. 0. 0.]\n",
            " [0. 1. 0. 0. 0. 0. 0. 0. 0.]\n",
            " [0. 1. 0. 0. 0. 0. 0. 0. 0.]\n",
            " [0. 1. 0. 0. 0. 0. 0. 0. 0.]\n",
            " [0. 0. 0. 0. 0. 0. 1. 0. 0.]\n",
            " [0. 0. 0. 0. 0. 0. 1. 0. 0.]\n",
            " [0. 0. 0. 0. 0. 0. 1. 0. 0.]\n",
            " [0. 0. 0. 0. 0. 0. 1. 0. 0.]\n",
            " [0. 1. 0. 0. 0. 0. 0. 0. 0.]\n",
            " [0. 0. 0. 0. 0. 0. 1. 0. 0.]\n",
            " [0. 0. 0. 0. 0. 0. 1. 0. 0.]\n",
            " [0. 0. 0. 0. 0. 0. 1. 0. 0.]\n",
            " [0. 1. 0. 0. 0. 0. 0. 0. 0.]\n",
            " [0. 1. 0. 0. 0. 0. 0. 0. 0.]\n",
            " [0. 1. 0. 0. 0. 0. 0. 0. 0.]\n",
            " [0. 1. 0. 0. 0. 0. 0. 0. 0.]\n",
            " [0. 1. 0. 0. 0. 0. 0. 0. 0.]\n",
            " [0. 1. 0. 0. 0. 0. 0. 0. 0.]\n",
            " [0. 0. 0. 0. 0. 0. 0. 1. 0.]\n",
            " [0. 0. 0. 0. 0. 0. 0. 1. 0.]\n",
            " [0. 1. 0. 0. 0. 0. 0. 0. 0.]\n",
            " [0. 1. 0. 0. 0. 0. 0. 0. 0.]\n",
            " [0. 0. 0. 0. 0. 0. 0. 0. 1.]\n",
            " [1. 0. 0. 0. 0. 0. 0. 0. 0.]\n",
            " [1. 0. 0. 0. 0. 0. 0. 0. 0.]\n",
            " [1. 0. 0. 0. 0. 0. 0. 0. 0.]\n",
            " [1. 0. 0. 0. 0. 0. 0. 0. 0.]\n",
            " [1. 0. 0. 0. 0. 0. 0. 0. 0.]\n",
            " [1. 0. 0. 0. 0. 0. 0. 0. 0.]\n",
            " [1. 0. 0. 0. 0. 0. 0. 0. 0.]]\n"
          ],
          "name": "stdout"
        }
      ]
    },
    {
      "cell_type": "code",
      "metadata": {
        "id": "87cFLyohYXlp",
        "colab": {
          "base_uri": "https://localhost:8080/",
          "height": 666
        },
        "outputId": "6564366d-af23-480e-ce42-47a28f4a8f68"
      },
      "source": [
        "from keras.models import Model, Input\n",
        "from keras.layers import LSTM, Embedding, Dense, TimeDistributed, Dropout, Bidirectional\n",
        "from keras_contrib.layers import CRF\n",
        "\n",
        "\n",
        "input = Input(shape=(MAX_LEN,))\n",
        "model = Embedding(input_dim=n_words+2, output_dim=EMBEDDING, \n",
        "                  input_length=MAX_LEN, mask_zero=True)(input)  \n",
        "model = Bidirectional(LSTM(units=50, return_sequences=True,\n",
        "                           recurrent_dropout=0.2))(model)  \n",
        "model = Dense(200, activation=\"relu\")(model)  \n",
        "crf = CRF(n_tags+1)  \n",
        "out = crf(model)  \n",
        "\n",
        "model = Model(input, out)\n",
        "model.compile(optimizer=\"adam\", loss=crf.loss_function, metrics=[crf.accuracy])\n",
        "\n",
        "model.summary()"
      ],
      "execution_count": null,
      "outputs": [
        {
          "output_type": "stream",
          "text": [
            "WARNING:tensorflow:From /usr/local/lib/python3.6/dist-packages/keras/backend/tensorflow_backend.py:74: The name tf.get_default_graph is deprecated. Please use tf.compat.v1.get_default_graph instead.\n",
            "\n",
            "WARNING:tensorflow:From /usr/local/lib/python3.6/dist-packages/keras/backend/tensorflow_backend.py:517: The name tf.placeholder is deprecated. Please use tf.compat.v1.placeholder instead.\n",
            "\n",
            "WARNING:tensorflow:From /usr/local/lib/python3.6/dist-packages/keras/backend/tensorflow_backend.py:4138: The name tf.random_uniform is deprecated. Please use tf.random.uniform instead.\n",
            "\n",
            "WARNING:tensorflow:From /usr/local/lib/python3.6/dist-packages/keras/backend/tensorflow_backend.py:133: The name tf.placeholder_with_default is deprecated. Please use tf.compat.v1.placeholder_with_default instead.\n",
            "\n",
            "WARNING:tensorflow:From /usr/local/lib/python3.6/dist-packages/keras/backend/tensorflow_backend.py:3445: calling dropout (from tensorflow.python.ops.nn_ops) with keep_prob is deprecated and will be removed in a future version.\n",
            "Instructions for updating:\n",
            "Please use `rate` instead of `keep_prob`. Rate should be set to `rate = 1 - keep_prob`.\n",
            "WARNING:tensorflow:From /usr/local/lib/python3.6/dist-packages/keras/backend/tensorflow_backend.py:2974: where (from tensorflow.python.ops.array_ops) is deprecated and will be removed in a future version.\n",
            "Instructions for updating:\n",
            "Use tf.where in 2.0, which has the same broadcast rule as np.where\n",
            "WARNING:tensorflow:From /usr/local/lib/python3.6/dist-packages/keras/optimizers.py:790: The name tf.train.Optimizer is deprecated. Please use tf.compat.v1.train.Optimizer instead.\n",
            "\n"
          ],
          "name": "stdout"
        },
        {
          "output_type": "stream",
          "text": [
            "/usr/local/lib/python3.6/dist-packages/keras_contrib/layers/crf.py:346: UserWarning: CRF.loss_function is deprecated and it might be removed in the future. Please use losses.crf_loss instead.\n",
            "  warnings.warn('CRF.loss_function is deprecated '\n",
            "/usr/local/lib/python3.6/dist-packages/keras_contrib/layers/crf.py:353: UserWarning: CRF.accuracy is deprecated and it might be removed in the future. Please use metrics.crf_accuracy\n",
            "  warnings.warn('CRF.accuracy is deprecated and it '\n"
          ],
          "name": "stderr"
        },
        {
          "output_type": "stream",
          "text": [
            "_________________________________________________________________\n",
            "Layer (type)                 Output Shape              Param #   \n",
            "=================================================================\n",
            "input_1 (InputLayer)         (None, 30)                0         \n",
            "_________________________________________________________________\n",
            "embedding_1 (Embedding)      (None, 30, 20)            21260     \n",
            "_________________________________________________________________\n",
            "bidirectional_1 (Bidirection (None, 30, 100)           28400     \n",
            "_________________________________________________________________\n",
            "dense_1 (Dense)              (None, 30, 200)           20200     \n",
            "_________________________________________________________________\n",
            "crf_1 (CRF)                  (None, 30, 9)             1908      \n",
            "=================================================================\n",
            "Total params: 71,768\n",
            "Trainable params: 71,768\n",
            "Non-trainable params: 0\n",
            "_________________________________________________________________\n"
          ],
          "name": "stdout"
        }
      ]
    },
    {
      "cell_type": "code",
      "metadata": {
        "id": "p7J7OVxfYhmH",
        "colab": {
          "base_uri": "https://localhost:8080/",
          "height": 1000
        },
        "outputId": "09011612-319b-4854-fd5d-f1ef839b3464"
      },
      "source": [
        "history = model.fit(X_tr, np.array(y_tr), batch_size=BATCH_SIZE, epochs=100, verbose=1)"
      ],
      "execution_count": null,
      "outputs": [
        {
          "output_type": "stream",
          "text": [
            "WARNING:tensorflow:From /usr/local/lib/python3.6/dist-packages/keras/backend/tensorflow_backend.py:986: The name tf.assign_add is deprecated. Please use tf.compat.v1.assign_add instead.\n",
            "\n",
            "WARNING:tensorflow:From /usr/local/lib/python3.6/dist-packages/keras/backend/tensorflow_backend.py:973: The name tf.assign is deprecated. Please use tf.compat.v1.assign instead.\n",
            "\n",
            "WARNING:tensorflow:From /usr/local/lib/python3.6/dist-packages/keras/backend/tensorflow_backend.py:2741: The name tf.Session is deprecated. Please use tf.compat.v1.Session instead.\n",
            "\n",
            "Epoch 1/100\n",
            "WARNING:tensorflow:From /usr/local/lib/python3.6/dist-packages/keras/backend/tensorflow_backend.py:174: The name tf.get_default_session is deprecated. Please use tf.compat.v1.get_default_session instead.\n",
            "\n",
            "WARNING:tensorflow:From /usr/local/lib/python3.6/dist-packages/keras/backend/tensorflow_backend.py:181: The name tf.ConfigProto is deprecated. Please use tf.compat.v1.ConfigProto instead.\n",
            "\n",
            "WARNING:tensorflow:From /usr/local/lib/python3.6/dist-packages/keras/backend/tensorflow_backend.py:190: The name tf.global_variables is deprecated. Please use tf.compat.v1.global_variables instead.\n",
            "\n",
            "WARNING:tensorflow:From /usr/local/lib/python3.6/dist-packages/keras/backend/tensorflow_backend.py:199: The name tf.is_variable_initialized is deprecated. Please use tf.compat.v1.is_variable_initialized instead.\n",
            "\n",
            "WARNING:tensorflow:From /usr/local/lib/python3.6/dist-packages/keras/backend/tensorflow_backend.py:206: The name tf.variables_initializer is deprecated. Please use tf.compat.v1.variables_initializer instead.\n",
            "\n",
            "102/102 [==============================] - 3s 27ms/step - loss: 10.5872 - crf_viterbi_accuracy: 0.0097\n",
            "Epoch 2/100\n",
            "102/102 [==============================] - 0s 2ms/step - loss: 10.5383 - crf_viterbi_accuracy: 0.0097\n",
            "Epoch 3/100\n",
            "102/102 [==============================] - 0s 2ms/step - loss: 10.4766 - crf_viterbi_accuracy: 0.0432\n",
            "Epoch 4/100\n",
            "102/102 [==============================] - 0s 2ms/step - loss: 10.3916 - crf_viterbi_accuracy: 0.2673\n",
            "Epoch 5/100\n",
            "102/102 [==============================] - 0s 2ms/step - loss: 10.2708 - crf_viterbi_accuracy: 0.4858\n",
            "Epoch 6/100\n",
            "102/102 [==============================] - 0s 2ms/step - loss: 10.0874 - crf_viterbi_accuracy: 0.4880\n",
            "Epoch 7/100\n",
            "102/102 [==============================] - 0s 2ms/step - loss: 9.8204 - crf_viterbi_accuracy: 0.7546\n",
            "Epoch 8/100\n",
            "102/102 [==============================] - 0s 2ms/step - loss: 9.4425 - crf_viterbi_accuracy: 0.9232\n",
            "Epoch 9/100\n",
            "102/102 [==============================] - 0s 2ms/step - loss: 9.0920 - crf_viterbi_accuracy: 0.9442\n",
            "Epoch 10/100\n",
            "102/102 [==============================] - 0s 2ms/step - loss: 9.0139 - crf_viterbi_accuracy: 0.9473\n",
            "Epoch 11/100\n",
            "102/102 [==============================] - 0s 2ms/step - loss: 8.9964 - crf_viterbi_accuracy: 0.9467\n",
            "Epoch 12/100\n",
            "102/102 [==============================] - 0s 2ms/step - loss: 8.9704 - crf_viterbi_accuracy: 0.9450\n",
            "Epoch 13/100\n",
            "102/102 [==============================] - 0s 2ms/step - loss: 8.9278 - crf_viterbi_accuracy: 0.9434\n",
            "Epoch 14/100\n",
            "102/102 [==============================] - 0s 2ms/step - loss: 8.8609 - crf_viterbi_accuracy: 0.9465\n",
            "Epoch 15/100\n",
            "102/102 [==============================] - 0s 2ms/step - loss: 8.8187 - crf_viterbi_accuracy: 0.9453\n",
            "Epoch 16/100\n",
            "102/102 [==============================] - 0s 2ms/step - loss: 8.7793 - crf_viterbi_accuracy: 0.9455\n",
            "Epoch 17/100\n",
            "102/102 [==============================] - 0s 2ms/step - loss: 8.7695 - crf_viterbi_accuracy: 0.9464\n",
            "Epoch 18/100\n",
            "102/102 [==============================] - 0s 2ms/step - loss: 8.7449 - crf_viterbi_accuracy: 0.9457\n",
            "Epoch 19/100\n",
            "102/102 [==============================] - 0s 2ms/step - loss: 8.7164 - crf_viterbi_accuracy: 0.9462\n",
            "Epoch 20/100\n",
            "102/102 [==============================] - 0s 2ms/step - loss: 8.6873 - crf_viterbi_accuracy: 0.9458\n",
            "Epoch 21/100\n",
            "102/102 [==============================] - 0s 2ms/step - loss: 8.6582 - crf_viterbi_accuracy: 0.9463\n",
            "Epoch 22/100\n",
            "102/102 [==============================] - 0s 2ms/step - loss: 8.6297 - crf_viterbi_accuracy: 0.9451\n",
            "Epoch 23/100\n",
            "102/102 [==============================] - 0s 2ms/step - loss: 8.6123 - crf_viterbi_accuracy: 0.9458\n",
            "Epoch 24/100\n",
            "102/102 [==============================] - 0s 2ms/step - loss: 8.5950 - crf_viterbi_accuracy: 0.9456\n",
            "Epoch 25/100\n",
            "102/102 [==============================] - 0s 2ms/step - loss: 8.5840 - crf_viterbi_accuracy: 0.9459\n",
            "Epoch 26/100\n",
            "102/102 [==============================] - 0s 2ms/step - loss: 8.5699 - crf_viterbi_accuracy: 0.9467\n",
            "Epoch 27/100\n",
            "102/102 [==============================] - 0s 2ms/step - loss: 8.5633 - crf_viterbi_accuracy: 0.9446\n",
            "Epoch 28/100\n",
            "102/102 [==============================] - 0s 2ms/step - loss: 8.5511 - crf_viterbi_accuracy: 0.9457\n",
            "Epoch 29/100\n",
            "102/102 [==============================] - 0s 2ms/step - loss: 8.5431 - crf_viterbi_accuracy: 0.9442\n",
            "Epoch 30/100\n",
            "102/102 [==============================] - 0s 2ms/step - loss: 8.5355 - crf_viterbi_accuracy: 0.9466\n",
            "Epoch 31/100\n",
            "102/102 [==============================] - 0s 2ms/step - loss: 8.5303 - crf_viterbi_accuracy: 0.9450\n",
            "Epoch 32/100\n",
            "102/102 [==============================] - 0s 2ms/step - loss: 8.5233 - crf_viterbi_accuracy: 0.9457\n",
            "Epoch 33/100\n",
            "102/102 [==============================] - 0s 2ms/step - loss: 8.5187 - crf_viterbi_accuracy: 0.9452\n",
            "Epoch 34/100\n",
            "102/102 [==============================] - 0s 2ms/step - loss: 8.5142 - crf_viterbi_accuracy: 0.9443\n",
            "Epoch 35/100\n",
            "102/102 [==============================] - 0s 2ms/step - loss: 8.5107 - crf_viterbi_accuracy: 0.9460\n",
            "Epoch 36/100\n",
            "102/102 [==============================] - 0s 2ms/step - loss: 8.5074 - crf_viterbi_accuracy: 0.9464\n",
            "Epoch 37/100\n",
            "102/102 [==============================] - 0s 2ms/step - loss: 8.5034 - crf_viterbi_accuracy: 0.9463\n",
            "Epoch 38/100\n",
            "102/102 [==============================] - 0s 2ms/step - loss: 8.4992 - crf_viterbi_accuracy: 0.9466\n",
            "Epoch 39/100\n",
            "102/102 [==============================] - 0s 2ms/step - loss: 8.4960 - crf_viterbi_accuracy: 0.9461\n",
            "Epoch 40/100\n",
            "102/102 [==============================] - 0s 2ms/step - loss: 8.4927 - crf_viterbi_accuracy: 0.9460\n",
            "Epoch 41/100\n",
            "102/102 [==============================] - 0s 2ms/step - loss: 8.4898 - crf_viterbi_accuracy: 0.9462\n",
            "Epoch 42/100\n",
            "102/102 [==============================] - 0s 2ms/step - loss: 8.4869 - crf_viterbi_accuracy: 0.9464\n",
            "Epoch 43/100\n",
            "102/102 [==============================] - 0s 2ms/step - loss: 8.4844 - crf_viterbi_accuracy: 0.9463\n",
            "Epoch 44/100\n",
            "102/102 [==============================] - 0s 2ms/step - loss: 8.4810 - crf_viterbi_accuracy: 0.9466\n",
            "Epoch 45/100\n",
            "102/102 [==============================] - 0s 2ms/step - loss: 8.4784 - crf_viterbi_accuracy: 0.9467\n",
            "Epoch 46/100\n",
            "102/102 [==============================] - 0s 2ms/step - loss: 8.4764 - crf_viterbi_accuracy: 0.9463\n",
            "Epoch 47/100\n",
            "102/102 [==============================] - 0s 2ms/step - loss: 8.4732 - crf_viterbi_accuracy: 0.9458\n",
            "Epoch 48/100\n",
            "102/102 [==============================] - 0s 2ms/step - loss: 8.4708 - crf_viterbi_accuracy: 0.9470\n",
            "Epoch 49/100\n",
            "102/102 [==============================] - 0s 2ms/step - loss: 8.4683 - crf_viterbi_accuracy: 0.9474\n",
            "Epoch 50/100\n",
            "102/102 [==============================] - 0s 2ms/step - loss: 8.4654 - crf_viterbi_accuracy: 0.9483\n",
            "Epoch 51/100\n",
            "102/102 [==============================] - 0s 2ms/step - loss: 8.4632 - crf_viterbi_accuracy: 0.9490\n",
            "Epoch 52/100\n",
            "102/102 [==============================] - 0s 2ms/step - loss: 8.4607 - crf_viterbi_accuracy: 0.9511\n",
            "Epoch 53/100\n",
            "102/102 [==============================] - 0s 2ms/step - loss: 8.4571 - crf_viterbi_accuracy: 0.9509\n",
            "Epoch 54/100\n",
            "102/102 [==============================] - 0s 2ms/step - loss: 8.4542 - crf_viterbi_accuracy: 0.9569\n",
            "Epoch 55/100\n",
            "102/102 [==============================] - 0s 2ms/step - loss: 8.4514 - crf_viterbi_accuracy: 0.9633\n",
            "Epoch 56/100\n",
            "102/102 [==============================] - 0s 2ms/step - loss: 8.4480 - crf_viterbi_accuracy: 0.9648\n",
            "Epoch 57/100\n",
            "102/102 [==============================] - 0s 2ms/step - loss: 8.4448 - crf_viterbi_accuracy: 0.9643\n",
            "Epoch 58/100\n",
            "102/102 [==============================] - 0s 2ms/step - loss: 8.4421 - crf_viterbi_accuracy: 0.9641\n",
            "Epoch 59/100\n",
            "102/102 [==============================] - 0s 2ms/step - loss: 8.4401 - crf_viterbi_accuracy: 0.9674\n",
            "Epoch 60/100\n",
            "102/102 [==============================] - 0s 2ms/step - loss: 8.4367 - crf_viterbi_accuracy: 0.9686\n",
            "Epoch 61/100\n",
            "102/102 [==============================] - 0s 2ms/step - loss: 8.4342 - crf_viterbi_accuracy: 0.9713\n",
            "Epoch 62/100\n",
            "102/102 [==============================] - 0s 2ms/step - loss: 8.4324 - crf_viterbi_accuracy: 0.9697\n",
            "Epoch 63/100\n",
            "102/102 [==============================] - 0s 2ms/step - loss: 8.4297 - crf_viterbi_accuracy: 0.9713\n",
            "Epoch 64/100\n",
            "102/102 [==============================] - 0s 2ms/step - loss: 8.4279 - crf_viterbi_accuracy: 0.9734\n",
            "Epoch 65/100\n",
            "102/102 [==============================] - 0s 2ms/step - loss: 8.4258 - crf_viterbi_accuracy: 0.9742\n",
            "Epoch 66/100\n",
            "102/102 [==============================] - 0s 2ms/step - loss: 8.4239 - crf_viterbi_accuracy: 0.9734\n",
            "Epoch 67/100\n",
            "102/102 [==============================] - 0s 2ms/step - loss: 8.4232 - crf_viterbi_accuracy: 0.9733\n",
            "Epoch 68/100\n",
            "102/102 [==============================] - 0s 2ms/step - loss: 8.4216 - crf_viterbi_accuracy: 0.9725\n",
            "Epoch 69/100\n",
            "102/102 [==============================] - 0s 2ms/step - loss: 8.4201 - crf_viterbi_accuracy: 0.9733\n",
            "Epoch 70/100\n",
            "102/102 [==============================] - 0s 2ms/step - loss: 8.4177 - crf_viterbi_accuracy: 0.9732\n",
            "Epoch 71/100\n",
            "102/102 [==============================] - 0s 2ms/step - loss: 8.4163 - crf_viterbi_accuracy: 0.9748\n",
            "Epoch 72/100\n",
            "102/102 [==============================] - 0s 2ms/step - loss: 8.4159 - crf_viterbi_accuracy: 0.9728\n",
            "Epoch 73/100\n",
            "102/102 [==============================] - 0s 2ms/step - loss: 8.4144 - crf_viterbi_accuracy: 0.9722\n",
            "Epoch 74/100\n",
            "102/102 [==============================] - 0s 2ms/step - loss: 8.4139 - crf_viterbi_accuracy: 0.9747\n",
            "Epoch 75/100\n",
            "102/102 [==============================] - 0s 2ms/step - loss: 8.4122 - crf_viterbi_accuracy: 0.9734\n",
            "Epoch 76/100\n",
            "102/102 [==============================] - 0s 2ms/step - loss: 8.4113 - crf_viterbi_accuracy: 0.9735\n",
            "Epoch 77/100\n",
            "102/102 [==============================] - 0s 2ms/step - loss: 8.4106 - crf_viterbi_accuracy: 0.9753\n",
            "Epoch 78/100\n",
            "102/102 [==============================] - 0s 2ms/step - loss: 8.4088 - crf_viterbi_accuracy: 0.9750\n",
            "Epoch 79/100\n",
            "102/102 [==============================] - 0s 2ms/step - loss: 8.4082 - crf_viterbi_accuracy: 0.9747\n",
            "Epoch 80/100\n",
            "102/102 [==============================] - 0s 2ms/step - loss: 8.4065 - crf_viterbi_accuracy: 0.9746\n",
            "Epoch 81/100\n",
            "102/102 [==============================] - 0s 2ms/step - loss: 8.4060 - crf_viterbi_accuracy: 0.9743\n",
            "Epoch 82/100\n",
            "102/102 [==============================] - 0s 2ms/step - loss: 8.4049 - crf_viterbi_accuracy: 0.9757\n",
            "Epoch 83/100\n",
            "102/102 [==============================] - 0s 2ms/step - loss: 8.4045 - crf_viterbi_accuracy: 0.9730\n",
            "Epoch 84/100\n",
            "102/102 [==============================] - 0s 2ms/step - loss: 8.4037 - crf_viterbi_accuracy: 0.9765\n",
            "Epoch 85/100\n",
            "102/102 [==============================] - 0s 2ms/step - loss: 8.4026 - crf_viterbi_accuracy: 0.9765\n",
            "Epoch 86/100\n",
            "102/102 [==============================] - 0s 2ms/step - loss: 8.4009 - crf_viterbi_accuracy: 0.9753\n",
            "Epoch 87/100\n",
            "102/102 [==============================] - 0s 2ms/step - loss: 8.4001 - crf_viterbi_accuracy: 0.9762\n",
            "Epoch 88/100\n",
            "102/102 [==============================] - 0s 2ms/step - loss: 8.3994 - crf_viterbi_accuracy: 0.9756\n",
            "Epoch 89/100\n",
            "102/102 [==============================] - 0s 2ms/step - loss: 8.3997 - crf_viterbi_accuracy: 0.9741\n",
            "Epoch 90/100\n",
            "102/102 [==============================] - 0s 2ms/step - loss: 8.3981 - crf_viterbi_accuracy: 0.9700\n",
            "Epoch 91/100\n",
            "102/102 [==============================] - 0s 2ms/step - loss: 8.3972 - crf_viterbi_accuracy: 0.9768\n",
            "Epoch 92/100\n",
            "102/102 [==============================] - 0s 2ms/step - loss: 8.3960 - crf_viterbi_accuracy: 0.9774\n",
            "Epoch 93/100\n",
            "102/102 [==============================] - 0s 2ms/step - loss: 8.3957 - crf_viterbi_accuracy: 0.9788\n",
            "Epoch 94/100\n",
            "102/102 [==============================] - 0s 2ms/step - loss: 8.3957 - crf_viterbi_accuracy: 0.9794\n",
            "Epoch 95/100\n",
            "102/102 [==============================] - 0s 2ms/step - loss: 8.3948 - crf_viterbi_accuracy: 0.9801\n",
            "Epoch 96/100\n",
            "102/102 [==============================] - 0s 2ms/step - loss: 8.3942 - crf_viterbi_accuracy: 0.9786\n",
            "Epoch 97/100\n",
            "102/102 [==============================] - 0s 2ms/step - loss: 8.3926 - crf_viterbi_accuracy: 0.9784\n",
            "Epoch 98/100\n",
            "102/102 [==============================] - 0s 2ms/step - loss: 8.3926 - crf_viterbi_accuracy: 0.9810\n",
            "Epoch 99/100\n",
            "102/102 [==============================] - 0s 2ms/step - loss: 8.3922 - crf_viterbi_accuracy: 0.9812\n",
            "Epoch 100/100\n",
            "102/102 [==============================] - 0s 2ms/step - loss: 8.3919 - crf_viterbi_accuracy: 0.9795\n"
          ],
          "name": "stdout"
        }
      ]
    },
    {
      "cell_type": "code",
      "metadata": {
        "id": "EDsemUPIYmTg"
      },
      "source": [
        "#X_tr, X_te, y_tr, y_te\n",
        "y_pred = model.predict(X_te)\n",
        "y_pred = np.argmax(y_pred, axis=-1)\n",
        "y_test_true = np.argmax(y_te, -1)"
      ],
      "execution_count": null,
      "outputs": []
    },
    {
      "cell_type": "code",
      "metadata": {
        "id": "71E2d0SOZeK3"
      },
      "source": [
        "y_pred = [[idx2tag[i] for i in row] for row in y_pred]\n",
        "y_test_true = [[idx2tag[i] for i in row] for row in y_test_true]"
      ],
      "execution_count": null,
      "outputs": []
    },
    {
      "cell_type": "code",
      "metadata": {
        "id": "h7r8v-h6Z6nb"
      },
      "source": [
        "from sklearn.metrics import f1_score\n",
        "from sklearn_crfsuite.metrics import flat_classification_report"
      ],
      "execution_count": null,
      "outputs": []
    },
    {
      "cell_type": "code",
      "metadata": {
        "id": "FoSBr_qziAYn",
        "colab": {
          "base_uri": "https://localhost:8080/",
          "height": 187
        },
        "outputId": "e9d9361c-8b3a-493d-be80-be437f8c4f26"
      },
      "source": [
        "report = flat_classification_report(y_pred=y_pred, y_true=y_test_true)\n",
        "print(report)"
      ],
      "execution_count": null,
      "outputs": [
        {
          "output_type": "stream",
          "text": [
            "              precision    recall  f1-score   support\n",
            "\n",
            "       I-PER       1.00      1.00      1.00         4\n",
            "           O       1.00      1.00      1.00       303\n",
            "         PAD       1.00      1.00      1.00        53\n",
            "\n",
            "    accuracy                           1.00       360\n",
            "   macro avg       1.00      1.00      1.00       360\n",
            "weighted avg       1.00      1.00      1.00       360\n",
            "\n"
          ],
          "name": "stdout"
        }
      ]
    },
    {
      "cell_type": "code",
      "metadata": {
        "id": "KaS-X1ACZ0Gi",
        "colab": {
          "base_uri": "https://localhost:8080/",
          "height": 578
        },
        "outputId": "2157408e-5e33-42a8-8bd7-0e87d7002170"
      },
      "source": [
        "i = np.random.randint(0,X_te.shape[0]) \n",
        "p = model.predict(np.array([X_te[i]]))\n",
        "p = np.argmax(p, axis=-1)\n",
        "true = np.argmax(y_te[i], -1)\n",
        "\n",
        "print(\"Sample number {} of {} (Test Set)\".format(i, X_te.shape[0]))\n",
        "print(\"{:15}||{:5}||{}\".format(\"Word\", \"True\", \"Pred\"))\n",
        "print(30 * \"=\")\n",
        "for w, t, pred in zip(X_te[i], true, p[0]):\n",
        "    if w != 0:\n",
        "        print(\"{:15}: {:5} {}\".format(words[w-2], idx2tag[t], idx2tag[pred]))"
      ],
      "execution_count": null,
      "outputs": [
        {
          "output_type": "stream",
          "text": [
            "Sample number 1 of 12 (Test Set)\n",
            "Word           ||True ||Pred\n",
            "==============================\n",
            "agreement      : O     O\n",
            "contained      : O     O\n",
            "in             : O     O\n",
            "this           : O     O\n",
            "Article        : O     O\n",
            "shall          : O     O\n",
            "not            : O     O\n",
            "apply          : O     O\n",
            "to             : O     O\n",
            "liabilities    : O     O\n",
            "which          : O     O\n",
            "the            : O     O\n",
            "Lender         : I-PER I-PER\n",
            "may            : O     O\n",
            "directly       : O     O\n",
            "or             : O     O\n",
            "indirectly     : O     O\n",
            "suffer         : O     O\n",
            "or             : O     O\n",
            "by             : O     O\n",
            "reason         : O     O\n",
            "of             : O     O\n",
            "the            : O     O\n",
            "Lender         : I-PER I-PER\n",
            "'              : O     O\n",
            "s              : O     O\n",
            "own            : O     O\n",
            "negligence     : O     O\n",
            "or             : O     O\n",
            "misconduct     : O     O\n"
          ],
          "name": "stdout"
        }
      ]
    }
  ]
}